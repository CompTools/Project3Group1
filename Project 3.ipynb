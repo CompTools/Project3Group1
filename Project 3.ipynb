{
 "cells": [
  {
   "cell_type": "markdown",
   "metadata": {},
   "source": [
    "Write a script to analyze the flight data from PS2.\n",
    "- The following are required elements of the final script(s) that are turned in:\n",
    "    - You must have a database with at least 2 tables\n",
    "    - Each table should have a primary key \n",
    "    - There should be at least one foreign key\n",
    "    - You can either set up the tables in sqlite or from your Python script.\n",
    "- Your Python script should use SQLAlchemy to\n",
    "    - Add data to the database\n",
    "    - Query data in the database using each of these commands:\n",
    "        - select, where, join\n",
    "    - Preferably uses the SQL Expression Language, but OK if you use raw SQL.\n",
    "    \n",
    "# Data in subfolder /data/.."
   ]
  },
  {
   "cell_type": "markdown",
   "metadata": {},
   "source": [
    "# Create database with 2 tables"
   ]
  },
  {
   "cell_type": "code",
   "execution_count": 1,
   "metadata": {},
   "outputs": [],
   "source": [
    "from sqlalchemy import create_engine\n",
    "from sqlalchemy import Table, Column, Integer, String, MetaData, ForeignKey\n",
    "from sqlalchemy import DateTime, Boolean\n",
    "from sqlalchemy import exists\n",
    "from sqlalchemy import sql, select, join, desc\n",
    "\n",
    "# Create a sqlite database \n",
    "engine = create_engine('sqlite:///data/flights.project3.sqlite')\n",
    "\n",
    "metadata=MetaData(engine)\n",
    "\n",
    "# Try to load Airports info from database, if not there, create it.\n",
    "try:\n",
    "    Airports=Table('Airports', metadata, autoload=True)\n",
    "except:\n",
    "    Airports = Table ('Airports', metadata,\n",
    "                Column('ID', Integer, autoincrement=True),\n",
    "                Column('Code', String, primary_key=True),\n",
    "                Column('City', String),\n",
    "                Column('State', String),\n",
    "                Column('Name', String),\n",
    "               )\n",
    "\n",
    "# Same for Flights table.\n",
    "try:\n",
    "    Flights=Table('Flights', metadata, autoload=True)\n",
    "except:\n",
    "    Flights = Table ('Flights', metadata,\n",
    "                 Column('Fl_date', DateTime),\n",
    "                 Column('Airline_ID', String),\n",
    "                 Column('Code', String, primary_key=True),\n",
    "                 Column('Origin', String, ForeignKey(\"Airports.Code\")),\n",
    "                 Column('Destination', String, ForeignKey(\"Airports.Code\")),\n",
    "                 Column('Dep_Time', String),\n",
    "                 Column('Dep_Delay_New', Integer),\n",
    "                 Column('Arr_Time', String),\n",
    "                 Column('Arr_Delay_New', Integer),\n",
    "                 Column('Cancelled', Boolean),\n",
    "                 Column('Cancellation_Code', String),\n",
    "                 Column('Diverted', Boolean),\n",
    "                 Column('Air_Time', String),\n",
    "                 Column('Flights', Integer),\n",
    "                 Column('Distance', Integer),\n",
    "                 Column('Carrier_Delay', Integer),\n",
    "                 Column('Weather_Delay', Integer),\n",
    "                 Column('NAS_Delay', Integer),\n",
    "                 Column('Security_Delay', Integer),\n",
    "                 Column('Late_Aircraft_Delay', Integer)\n",
    "                )\n",
    "                 \n",
    "                 \n",
    "metadata.create_all(engine)"
   ]
  },
  {
   "cell_type": "markdown",
   "metadata": {},
   "source": [
    "# Add data to sqlite database"
   ]
  },
  {
   "cell_type": "code",
   "execution_count": null,
   "metadata": {},
   "outputs": [],
   "source": [
    "import csv\n",
    "\n",
    "flights = open(\"data/flights.May2017-Apr2018.csv\")\n",
    "\n",
    "reader = csv.DictReader(flights)\n",
    "\n",
    "Airport_dict={}\n",
    "\n",
    "# Read through the file and make a dictionary for airport codes.\n",
    "# This gets a unique list of airport codes.\n",
    "for Line in reader:\n",
    "    if Line['ORIGIN'] not in Airport_dict:\n",
    "        Airport_dict[Line['ORIGIN']]=[Line['ORIGIN_CITY_NAME'], Line['ORIGIN_STATE_ABR']]\n",
    "\n",
    "    if Line['DEST'] not in Airport_dict:\n",
    "        Airport_dict[Line['DEST']]=[Line['DEST_CITY_NAME'], Line['DEST_STATE_ABR']]\n",
    "        \n",
    "# Add the Airport_dict codes to the Airports table\n",
    "\n",
    "conn = engine.connect()\n",
    "\n",
    "def insert_airport(code,city,state):\n",
    "    ins=Airports.insert().values(Code=code,\n",
    "                                 City=city,\n",
    "                                 State=state)\n",
    "    result = conn.execute(ins)\n",
    "\n",
    "for key, value in Airport_dict.items(): \n",
    "    insert_airport(key, value[0], value[1])\n",
    "\n",
    "    \n",
    "flights.close()"
   ]
  },
  {
   "cell_type": "code",
   "execution_count": null,
   "metadata": {},
   "outputs": [],
   "source": []
  },
  {
   "cell_type": "code",
   "execution_count": null,
   "metadata": {},
   "outputs": [],
   "source": [
    "import datetime\n",
    "import pandas as pd\n",
    "\n",
    "def to_date(dates, lookup=False, **args):\n",
    "    if lookup:\n",
    "        return dates.map({v: pd.to_datetime(v, **args) for v in dates.unique()})\n",
    "    return pd.to_datetime(dates, **args)\n",
    "\n",
    "flights=open(\"data/flights.May2017-Apr2018.csv\")\n",
    "reader = csv.DictReader(flights)\n",
    "for Line in reader:\n",
    "\n",
    "    ins=Flights.insert().values(Fl_date=to_date(Line['FL_DATE']),\n",
    "                                Airline_ID = Line['AIRLINE_ID'],\n",
    "                                Origin = Line['ORIGIN'],\n",
    "                                Destination = Line['DEST'],\n",
    "                                Dep_Time = Line['DEP_TIME'],\n",
    "                                Dep_Delay_New = Line['DEP_DELAY_NEW'],\n",
    "                                Arr_Time = Line['ARR_TIME'],\n",
    "                                Arr_Delay_New = Line['ARR_DELAY_NEW'],\n",
    "                                Cancelled = int(float((Line['CANCELLED']))),\n",
    "                                Cancellation_Code = Line['CANCELLATION_CODE'],\n",
    "                                Diverted = int(float((Line['DIVERTED']))),\n",
    "                                Air_Time = Line['AIR_TIME'],\n",
    "                                Flights = Line['FLIGHTS'],\n",
    "                                Distance = Line['DISTANCE'],\n",
    "                                Carrier_Delay = Line['CARRIER_DELAY'],\n",
    "                                Weather_Delay = Line['WEATHER_DELAY'],\n",
    "                                NAS_Delay = Line['NAS_DELAY'],\n",
    "                                Security_Delay = Line['SECURITY_DELAY'],\n",
    "                                Late_Aircraft_Delay = Line['LATE_AIRCRAFT_DELAY']\n",
    "                                          )\n",
    "    result = conn.execute(ins)\n",
    "\n",
    "    "
   ]
  },
  {
   "cell_type": "markdown",
   "metadata": {},
   "source": [
    "# Select\n",
    "Selecting all Origin and Destination pairs"
   ]
  },
  {
   "cell_type": "code",
   "execution_count": null,
   "metadata": {},
   "outputs": [],
   "source": [
    "from sqlalchemy import select\n",
    "\n",
    "query=select([Flights.c.Origin, Flights.c.Destination])\n",
    "             \n",
    "result = conn.execute(query)\n",
    "for row in result:\n",
    "    print(row)"
   ]
  },
  {
   "cell_type": "markdown",
   "metadata": {},
   "source": [
    "# Where\n",
    "Selecting where air_time is max and printing origin and destination"
   ]
  },
  {
   "cell_type": "code",
   "execution_count": null,
   "metadata": {},
   "outputs": [],
   "source": [
    "from sqlalchemy import select\n",
    "from sqlalchemy import func\n",
    "\n",
    "query=select([Flights.c.Origin, Flights.c.Destination, func.max(Flights.c.Air_Time])\n",
    "             \n",
    "result = conn.execute(query)\n",
    "for row in result:\n",
    "    print(row)"
   ]
  },
  {
   "cell_type": "code",
   "execution_count": null,
   "metadata": {},
   "outputs": [],
   "source": [
    "# Join"
   ]
  }
 ],
 "metadata": {
  "kernelspec": {
   "display_name": "Python 3",
   "language": "python",
   "name": "python3"
  },
  "language_info": {
   "codemirror_mode": {
    "name": "ipython",
    "version": 3
   },
   "file_extension": ".py",
   "mimetype": "text/x-python",
   "name": "python",
   "nbconvert_exporter": "python",
   "pygments_lexer": "ipython3",
   "version": "3.7.0"
  }
 },
 "nbformat": 4,
 "nbformat_minor": 2
}
